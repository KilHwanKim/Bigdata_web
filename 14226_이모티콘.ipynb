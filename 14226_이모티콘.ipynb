{
  "nbformat": 4,
  "nbformat_minor": 0,
  "metadata": {
    "colab": {
      "name": "14226 이모티콘.ipynb",
      "provenance": [],
      "authorship_tag": "ABX9TyMVUckhzo3tOlhGe98Vge9K"
    },
    "kernelspec": {
      "name": "python3",
      "display_name": "Python 3"
    },
    "language_info": {
      "name": "python"
    }
  },
  "cells": [
    {
      "cell_type": "code",
      "metadata": {
        "id": "wY9bJwZH1-Et"
      },
      "source": [
        "from _collections import deque\n",
        "n = int(input())\n",
        "screen = 1\n",
        "board = 0\n",
        "cnt = 0\n",
        "q = deque()\n",
        "\n",
        "q.append([screen,board,cnt])\n",
        "visited = [ [0]*1001 for i in range(1001)]\n",
        "\n",
        "while q:\n",
        "    s,b,c = q.popleft()\n",
        "\n",
        "    if s==n:\n",
        "\n",
        "        print(c)\n",
        "        break\n",
        "\n",
        "    if b!=0 and s+b<=n:\n",
        "        if visited[s+b][b]==0:\n",
        "            q.append([s+b,b,c+1]) ## 붙여 놓기\n",
        "            visited[s + b][b] = 1\n",
        "    if visited[s][s]==0:\n",
        "        q.append([s,s,c+1])## 클립보드에 저장\n",
        "        visited[s ][s] = 1\n",
        "    if s>0:\n",
        "        if visited[s-1][b]==0:\n",
        "\n",
        "            q.append([s-1,b,c+1])## 하나 삭제\n",
        "            visited[s-1][b]=1"
      ],
      "execution_count": null,
      "outputs": []
    }
  ]
}